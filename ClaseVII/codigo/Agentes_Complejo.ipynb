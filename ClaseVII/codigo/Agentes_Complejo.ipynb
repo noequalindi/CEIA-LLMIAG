{
 "cells": [
  {
   "cell_type": "markdown",
   "id": "911b3b37-3b29-4833-94f2-bfe47af00c83",
   "metadata": {},
   "source": [
    "# Escribir Ensayos"
   ]
  },
  {
   "cell_type": "code",
   "execution_count": 2,
   "id": "d0168aee-bce9-4d60-b827-f86a88187e31",
   "metadata": {
    "height": 149
   },
   "outputs": [],
   "source": [
    "from langgraph.graph import StateGraph, END\n",
    "import sqlite3\n",
    "from typing import TypedDict, Annotated, List\n",
    "import operator\n",
    "from langgraph.checkpoint.sqlite import SqliteSaver\n",
    "from langchain_core.messages import AnyMessage, SystemMessage, HumanMessage, AIMessage, ChatMessage\n",
    "memory = SqliteSaver(sqlite3.connect(\":memory:\", check_same_thread=False))\n",
    "# memory = SqliteSaver.from_conn_string(\":memory:\")"
   ]
  },
  {
   "cell_type": "code",
   "execution_count": 3,
   "id": "2589c5b6-6cc2-4594-9a17-dccdcf676054",
   "metadata": {
    "height": 149
   },
   "outputs": [],
   "source": [
    "# Se importa TypedDict desde el módulo typing para definir un tipo de diccionario con claves específicas y valores\n",
    "# tipados\n",
    "\n",
    "class AgentState(TypedDict):\n",
    "    task: str\n",
    "    plan: str\n",
    "    draft: str\n",
    "    critique: str\n",
    "    content: List[str]\n",
    "    revision_number: int\n",
    "    max_revisions: int"
   ]
  },
  {
   "cell_type": "code",
   "execution_count": 4,
   "id": "a2ba84ec-c172-4de7-ac55-e3158a531b23",
   "metadata": {
    "height": 64
   },
   "outputs": [],
   "source": [
    "from langchain_openai import ChatOpenAI\n",
    "import os\n",
    "ChatOpenAI.api_key = os.getenv(\"OPENAI_API_KEY\")\n",
    "model = ChatOpenAI(\n",
    "    model=\"gpt-4o-mini\",\n",
    "    temperature=0,\n",
    "    max_tokens=None,\n",
    "    timeout=None,\n",
    "    max_retries=2,\n",
    ")"
   ]
  },
  {
   "cell_type": "code",
   "execution_count": 4,
   "id": "876d5092-b8ef-4e38-b4d7-0e80c609bf7a",
   "metadata": {
    "height": 81
   },
   "outputs": [],
   "source": [
    "PLAN_PROMPT = \"\"\"Eres un escritor experto encargado de redactar un esquema de alto nivel para un ensayo. \\\n",
    "Escribe dicho esquema para el tema proporcionado por el usuario. Proporciona un esquema del ensayo junto \\\n",
    "con cualquier nota relevante o instrucciones para las secciones. Máximo 100 palabras.\"\"\""
   ]
  },
  {
   "cell_type": "code",
   "execution_count": 5,
   "id": "10084a02-2928-4945-9f7c-ad3f5b33caf7",
   "metadata": {
    "height": 166
   },
   "outputs": [],
   "source": [
    "WRITER_PROMPT = \"\"\"Eres un asistente de ensayos encargado de escribir excelentes ensayos de 2 párrafos (máximo 50 palabras cada uno). \\\n",
    "Genera el mejor ensayo posible para la solicitud del usuario y el esquema inicial. \\\n",
    "Si el usuario proporciona una crítica, responde con una versión revisada de tus intentos anteriores. \\\n",
    "Utiliza toda la información a continuación según sea necesario: \n",
    "\n",
    "------\n",
    "\n",
    "{content}\"\"\""
   ]
  },
  {
   "cell_type": "code",
   "execution_count": 6,
   "id": "714d1205-f8fc-4912-b148-2a45da99219c",
   "metadata": {
    "height": 81
   },
   "outputs": [],
   "source": [
    "REFLECTION_PROMPT = \"\"\"Eres un profesor evaluando la entrega de un ensayo. \\\n",
    "Genera una crítica y recomendaciones para la entrega del usuario. \\\n",
    "Proporciona recomendaciones detalladas, incluyendo peticiones sobre la longitud, profundidad, estilo, etc. (máximo 100 palabras).\"\"\""
   ]
  },
  {
   "cell_type": "code",
   "execution_count": 7,
   "id": "83588e70-254f-4f83-a510-c8ae81e729b0",
   "metadata": {
    "height": 98
   },
   "outputs": [],
   "source": [
    "RESEARCH_PLAN_PROMPT = \"\"\"Eres un investigador encargado de proporcionar información que pueda \\\n",
    "ser utilizada al escribir el siguiente ensayo. Genera una lista de consultas de búsqueda que recojan \\\n",
    "cualquier información relevante. Solo genera un máximo de 2 consultas (máximo 100 palabras).\"\"\"\n"
   ]
  },
  {
   "cell_type": "code",
   "execution_count": 8,
   "id": "6cb3ef4c-58b3-401b-b104-0d51e553d982",
   "metadata": {
    "height": 98
   },
   "outputs": [],
   "source": [
    "RESEARCH_CRITIQUE_PROMPT = \"\"\"Eres un investigador encargado de proporcionar información que pueda \\\n",
    "ser utilizada al realizar las revisiones solicitadas (como se detalla a continuación). \\\n",
    "Genera una lista de consultas de búsqueda que recojan cualquier información relevante. \\\n",
    "Solo genera un máximo de 2 consultas (máximo 100 palabras).\n",
    "\"\"\"\n"
   ]
  },
  {
   "cell_type": "code",
   "execution_count": 9,
   "id": "dc3293b7-a50c-43c8-a022-8975e1e444b8",
   "metadata": {
    "height": 98
   },
   "outputs": [],
   "source": [
    "from pydantic import BaseModel\n",
    "\n",
    "class Queries(BaseModel):\n",
    "    queries: List[str]"
   ]
  },
  {
   "cell_type": "code",
   "execution_count": 10,
   "id": "0722c3d4-4cbf-43bf-81b0-50f634c4ce61",
   "metadata": {
    "height": 81
   },
   "outputs": [],
   "source": [
    "from tavily import TavilyClient\n",
    "import os\n",
    "tavily = TavilyClient(api_key=os.environ[\"TAVILY_API_KEY\"])"
   ]
  },
  {
   "cell_type": "code",
   "execution_count": 11,
   "id": "6b2f82fe-3ec4-4917-be51-9fb10d1317fa",
   "metadata": {
    "height": 132
   },
   "outputs": [],
   "source": [
    "def plan_node(state: AgentState):\n",
    "    messages = [\n",
    "        SystemMessage(content=PLAN_PROMPT), \n",
    "        HumanMessage(content=state['task'])\n",
    "    ]\n",
    "    response = model.invoke(messages)\n",
    "    return {\"plan\": response.content}"
   ]
  },
  {
   "cell_type": "code",
   "execution_count": 12,
   "id": "ee0fe1c7-77e2-499c-a2f9-1f739bb6ddf0",
   "metadata": {
    "height": 217
   },
   "outputs": [],
   "source": [
    "def research_plan_node(state: AgentState):\n",
    "    queries = model.with_structured_output(Queries).invoke([\n",
    "        SystemMessage(content=RESEARCH_PLAN_PROMPT),\n",
    "        HumanMessage(content=state['task'])\n",
    "    ])\n",
    "    content = state.get('content', [])\n",
    "    for q in queries.queries:\n",
    "        response = tavily.search(query=q, max_results=2)\n",
    "        for r in response['results']:\n",
    "            content.append(r['content'])\n",
    "    return {\"content\": content}"
   ]
  },
  {
   "cell_type": "code",
   "execution_count": 13,
   "id": "98f303b1-a4d0-408c-8cc0-515ff980717f",
   "metadata": {
    "height": 302
   },
   "outputs": [],
   "source": [
    "def generation_node(state: AgentState):\n",
    "    content = \"\\n\\n\".join(state['content'] or [])\n",
    "    user_message = HumanMessage(\n",
    "        content=f\"{state['task']}\\n\\nEste es mi plan:\\n\\n{state['plan']}\")\n",
    "    messages = [\n",
    "        SystemMessage(\n",
    "            content=WRITER_PROMPT.format(content=content)\n",
    "        ),\n",
    "        user_message\n",
    "        ]\n",
    "    response = model.invoke(messages)\n",
    "    return {\n",
    "        \"draft\": response.content, \n",
    "        \"revision_number\": state.get(\"revision_number\", 1) + 1\n",
    "    }\n"
   ]
  },
  {
   "cell_type": "code",
   "execution_count": 14,
   "id": "bf4dcb93-6298-4cfd-b3ce-61dfac7fb35f",
   "metadata": {
    "height": 149
   },
   "outputs": [],
   "source": [
    "def reflection_node(state: AgentState):\n",
    "    messages = [\n",
    "        SystemMessage(content=REFLECTION_PROMPT), \n",
    "        HumanMessage(content=state['draft'])\n",
    "    ]\n",
    "    response = model.invoke(messages)\n",
    "    return {\"critique\": response.content}"
   ]
  },
  {
   "cell_type": "code",
   "execution_count": 15,
   "id": "932883a4-c722-42bb-aec0-b4f41c5c81a4",
   "metadata": {
    "height": 217
   },
   "outputs": [],
   "source": [
    "def research_critique_node(state: AgentState):\n",
    "    queries = model.with_structured_output(Queries).invoke([\n",
    "        SystemMessage(content=RESEARCH_CRITIQUE_PROMPT),\n",
    "        HumanMessage(content=state['critique'])\n",
    "    ])\n",
    "    content = state.get('content', [])\n",
    "    for q in queries.queries:\n",
    "        response = tavily.search(query=q, max_results=2)\n",
    "        for r in response['results']:\n",
    "            content.append(r['content'])\n",
    "    return {\"content\": content}"
   ]
  },
  {
   "cell_type": "code",
   "execution_count": 16,
   "id": "ff362f49-dcf1-4ea1-a86c-e516e9ab897d",
   "metadata": {
    "height": 98
   },
   "outputs": [],
   "source": [
    "def should_continue(state):\n",
    "    if state[\"revision_number\"] > state[\"max_revisions\"]:\n",
    "        return END\n",
    "    return \"reflect\""
   ]
  },
  {
   "cell_type": "code",
   "execution_count": 17,
   "id": "a7e15a20-83d7-434c-8551-bce8dcc32be0",
   "metadata": {
    "height": 30
   },
   "outputs": [],
   "source": [
    "builder = StateGraph(AgentState)"
   ]
  },
  {
   "cell_type": "code",
   "execution_count": 18,
   "id": "54ab2c74-f32e-490c-a85d-932d11444210",
   "metadata": {
    "height": 115
   },
   "outputs": [
    {
     "data": {
      "text/plain": [
       "<langgraph.graph.state.StateGraph at 0x17e9c4d7670>"
      ]
     },
     "execution_count": 18,
     "metadata": {},
     "output_type": "execute_result"
    }
   ],
   "source": [
    "builder.add_node(\"planner\", plan_node)\n",
    "builder.add_node(\"generate\", generation_node)\n",
    "builder.add_node(\"reflect\", reflection_node)\n",
    "builder.add_node(\"research_plan\", research_plan_node)\n",
    "builder.add_node(\"research_critique\", research_critique_node)"
   ]
  },
  {
   "cell_type": "code",
   "execution_count": 19,
   "id": "a833d3ce-bd31-4319-811d-decff226b970",
   "metadata": {
    "height": 30
   },
   "outputs": [
    {
     "data": {
      "text/plain": [
       "<langgraph.graph.state.StateGraph at 0x17e9c4d7670>"
      ]
     },
     "execution_count": 19,
     "metadata": {},
     "output_type": "execute_result"
    }
   ],
   "source": [
    "builder.set_entry_point(\"planner\")"
   ]
  },
  {
   "cell_type": "code",
   "execution_count": 20,
   "id": "76e93cce-6eab-4c7c-ac64-e9993fdb30d6",
   "metadata": {
    "height": 115
   },
   "outputs": [
    {
     "data": {
      "text/plain": [
       "<langgraph.graph.state.StateGraph at 0x17e9c4d7670>"
      ]
     },
     "execution_count": 20,
     "metadata": {},
     "output_type": "execute_result"
    }
   ],
   "source": [
    "builder.add_conditional_edges(\n",
    "    \"generate\", \n",
    "    should_continue, \n",
    "    {END: END, \"reflect\": \"reflect\"}\n",
    ")\n"
   ]
  },
  {
   "cell_type": "code",
   "execution_count": 21,
   "id": "fd2d0990-a932-423f-9ff3-5cada58c5f32",
   "metadata": {
    "height": 115
   },
   "outputs": [
    {
     "data": {
      "text/plain": [
       "<langgraph.graph.state.StateGraph at 0x17e9c4d7670>"
      ]
     },
     "execution_count": 21,
     "metadata": {},
     "output_type": "execute_result"
    }
   ],
   "source": [
    "builder.add_edge(\"planner\", \"research_plan\")\n",
    "builder.add_edge(\"research_plan\", \"generate\")\n",
    "\n",
    "builder.add_edge(\"reflect\", \"research_critique\")\n",
    "builder.add_edge(\"research_critique\", \"generate\")"
   ]
  },
  {
   "cell_type": "code",
   "execution_count": 22,
   "id": "27cde654-64e2-48bc-80a9-0ed668ccb7dc",
   "metadata": {
    "height": 30
   },
   "outputs": [],
   "source": [
    "# from langgraph.checkpoint.memory import MemorySaver\n",
    "# memory = MemorySaver()\n",
    "graph = builder.compile(checkpointer=memory)"
   ]
  },
  {
   "cell_type": "code",
   "execution_count": 23,
   "id": "4871f644-b131-4065-b7ce-b82c20a41f11",
   "metadata": {
    "height": 64
   },
   "outputs": [
    {
     "data": {
      "image/png": "[encoded data removed]",
      "text/plain": [
       "<IPython.core.display.Image object>"
      ]
     },
     "execution_count": 23,
     "metadata": {},
     "output_type": "execute_result"
    }
   ],
   "source": [
    "from IPython.display import Image\n",
    "\n",
    "Image(graph.get_graph().draw_png())"
   ]
  },
  {
   "cell_type": "code",
   "execution_count": 24,
   "id": "06cd9120",
   "metadata": {},
   "outputs": [
    {
     "data": {
      "text/markdown": [
       "### Respuesta del sistema: \n",
       "\n",
       "{'planner': {'plan': '**Esquema del ensayo: \"Diferencias entre Windows y Linux\"**\\n\\nI. Introducción  \\n   A. Presentación del tema  \\n   B. Importancia de entender las diferencias  \\n\\nII. Historia y desarrollo  \\n   A. Orígenes de Windows  \\n   B. Orígenes de Linux  \\n\\nIII. Estructura y arquitectura  \\n   A. Sistema de archivos en Windows  \\n   B. Sistema de archivos en Linux  \\n\\nIV. Interfaz de usuario  \\n   A. Diseño y usabilidad de Windows  \\n   B. Diseño y usabilidad de Linux  \\n\\nV. Seguridad  \\n   A. Vulnerabilidades en Windows  \\n   B. Seguridad en Linux  \\n\\nVI. Comunidad y soporte  \\n   A. Soporte técnico en Windows  \\n   B. Comunidad de usuarios de Linux  \\n\\nVII. Conclusión  \\n   A. Resumen de diferencias clave  \\n   B. Reflexión sobre la elección entre ambos sistemas  \\n\\n*Nota: Incluir ejemplos y estadísticas relevantes en cada sección para fortalecer los argumentos.*'}}"
      ],
      "text/plain": [
       "<IPython.core.display.Markdown object>"
      ]
     },
     "metadata": {},
     "output_type": "display_data"
    },
    {
     "data": {
      "text/markdown": [
       "### Respuesta del sistema: \n",
       "\n",
       "{'research_plan': {'content': ['En este artículo, exploraremos las principales diferencias entre Windows y Linux, para ayudarte a elegir el sistema operativo ideal para ti. Una de las principales diferencias entre Windows y Linux es la estabilidad y el rendimiento de los sistemas operativos. Cada distribución de Linux puede tener una interfaz de usuario diferente y personalizable, lo que permite a los usuarios adaptar el aspecto y la funcionalidad de su sistema operativo según sus preferencias. En última instancia, la elección entre Windows y Linux como sistema operativo depende de las necesidades y preferencias individuales del usuario. Linux, por otro lado, es una excelente opción para aquellos que valoran el software libre, la personalización y la estabilidad.', 'Linux y Windows son dos sistemas operativos muy populares en la actualidad, pero existen diferencias clave entre ellos que es importante tener en cuenta al momento de elegir cuál utilizar. Linux es generalmente considerado como un sistema operativo más seguro debido a su arquitectura y la forma en que los permisos de usuario son manejados. Linux es un sistema operativo de código abierto que ha ganado popularidad en los últimos años debido a su estabilidad, seguridad y flexibilidad. Una de las diferencias más importantes entre Linux y otros sistemas operativos es su licencia. Windows, por otro lado, es un sistema operativo comercial, propietario y enfocado en la facilidad de uso para el usuario promedio.', 'WindowsLinuxInterfaz de usuarioGUI orientada al usuario medio, con opciones limitadas de personalización fuera de temas predefinidos.Altamente personalizable con múltiples entornos de escritorio.Modelo de distribución y licenciaPrivado, requiere compra o licencia.Open Source, gratuito para descargar y usar.Seguridad y estabilidadVulnerable a malware, aunque con mejoras en versiones recientes.Más seguro y estable debido a su menor cuota de mercado y diseño.Compatibilidad de software y hardwareAmplio soporte de hardware y software gracias a su dominio en el mercado.Compatible con una amplia gama de hardware, aunque algunos softwares específicos no están disponibles.Soporte y comunidadSoporte técnico formal a través de Microsoft y una gran cantidad de documentación y foros de usuarios.Soporte comunitario a través de foros y documentación en línea, pero sin soporte técnico oficial. En la cara B, encontramos que Linux puede presentar una curva de aprendizaje más pronunciada para los usuarios acostumbrados a otros sistemas operativos debido a su diversidad de entornos de escritorio y opciones de configuración.', 'Por otro lado, es lógico que los hackers pongan la diana de sus ataques (virus y malware) en el sistema operativo que cuenta con más usuarios a nivel global. Dicho de otro modo: Linux se presenta a sus usuarios en distintas formas (la más conocida es Ubuntu), lo cual es al mismo tiempo una virtud, ya que ofrece más opciones a los usuarios, pero también un defecto, pues esto supone también un lastre a la hora de competir con el gigante de Microsoft. Pero el hecho de ser considerada Linux una plataforma destinada a un público limitado encierra en sí mismo una gran desventaja: el software compatible disponible es mucho más reducido que el que está al alcance de los usuarios de Windows.']}}"
      ],
      "text/plain": [
       "<IPython.core.display.Markdown object>"
      ]
     },
     "metadata": {},
     "output_type": "display_data"
    },
    {
     "data": {
      "text/markdown": [
       "### Respuesta del sistema: \n",
       "\n",
       "{'generate': {'draft': '**Diferencias entre Windows y Linux**\\n\\nWindows y Linux son dos sistemas operativos que se destacan por sus características únicas. Windows, desarrollado por Microsoft, es conocido por su interfaz amigable y su amplia compatibilidad de software, lo que lo convierte en la opción preferida para usuarios promedio. En contraste, Linux, un sistema de código abierto, ofrece una personalización superior y es valorado por su estabilidad y seguridad, aunque puede presentar una curva de aprendizaje más pronunciada.\\n\\nLa elección entre Windows y Linux depende de las necesidades individuales del usuario. Mientras que Windows es ideal para quienes buscan facilidad de uso y soporte técnico formal, Linux es perfecto para aquellos que valoran la personalización y la comunidad de usuarios. En última instancia, comprender estas diferencias es crucial para tomar una decisión informada sobre qué sistema operativo se adapta mejor a tus requerimientos.', 'revision_number': 2}}"
      ],
      "text/plain": [
       "<IPython.core.display.Markdown object>"
      ]
     },
     "metadata": {},
     "output_type": "display_data"
    },
    {
     "data": {
      "text/markdown": [
       "### Respuesta del sistema: \n",
       "\n",
       "{'reflect': {'critique': 'Tu ensayo presenta una comparación clara entre Windows y Linux, pero podría beneficiarse de mayor profundidad y análisis. Te recomiendo ampliar la discusión sobre las ventajas y desventajas de cada sistema operativo, incluyendo ejemplos concretos de aplicaciones o situaciones en las que uno podría ser preferible al otro. Además, considera incluir estadísticas o estudios que respalden tus afirmaciones. \\n\\nEn cuanto al estilo, intenta utilizar un lenguaje más formal y técnico, y asegúrate de que la longitud sea de al menos 800 palabras para un análisis más completo. Por último, revisa la gramática y la estructura para mejorar la fluidez del texto.'}}"
      ],
      "text/plain": [
       "<IPython.core.display.Markdown object>"
      ]
     },
     "metadata": {},
     "output_type": "display_data"
    },
    {
     "data": {
      "text/markdown": [
       "### Respuesta del sistema: \n",
       "\n",
       "{'research_critique': {'content': ['En este artículo, exploraremos las principales diferencias entre Windows y Linux, para ayudarte a elegir el sistema operativo ideal para ti. Una de las principales diferencias entre Windows y Linux es la estabilidad y el rendimiento de los sistemas operativos. Cada distribución de Linux puede tener una interfaz de usuario diferente y personalizable, lo que permite a los usuarios adaptar el aspecto y la funcionalidad de su sistema operativo según sus preferencias. En última instancia, la elección entre Windows y Linux como sistema operativo depende de las necesidades y preferencias individuales del usuario. Linux, por otro lado, es una excelente opción para aquellos que valoran el software libre, la personalización y la estabilidad.', 'Linux y Windows son dos sistemas operativos muy populares en la actualidad, pero existen diferencias clave entre ellos que es importante tener en cuenta al momento de elegir cuál utilizar. Linux es generalmente considerado como un sistema operativo más seguro debido a su arquitectura y la forma en que los permisos de usuario son manejados. Linux es un sistema operativo de código abierto que ha ganado popularidad en los últimos años debido a su estabilidad, seguridad y flexibilidad. Una de las diferencias más importantes entre Linux y otros sistemas operativos es su licencia. Windows, por otro lado, es un sistema operativo comercial, propietario y enfocado en la facilidad de uso para el usuario promedio.', 'WindowsLinuxInterfaz de usuarioGUI orientada al usuario medio, con opciones limitadas de personalización fuera de temas predefinidos.Altamente personalizable con múltiples entornos de escritorio.Modelo de distribución y licenciaPrivado, requiere compra o licencia.Open Source, gratuito para descargar y usar.Seguridad y estabilidadVulnerable a malware, aunque con mejoras en versiones recientes.Más seguro y estable debido a su menor cuota de mercado y diseño.Compatibilidad de software y hardwareAmplio soporte de hardware y software gracias a su dominio en el mercado.Compatible con una amplia gama de hardware, aunque algunos softwares específicos no están disponibles.Soporte y comunidadSoporte técnico formal a través de Microsoft y una gran cantidad de documentación y foros de usuarios.Soporte comunitario a través de foros y documentación en línea, pero sin soporte técnico oficial. En la cara B, encontramos que Linux puede presentar una curva de aprendizaje más pronunciada para los usuarios acostumbrados a otros sistemas operativos debido a su diversidad de entornos de escritorio y opciones de configuración.', 'Por otro lado, es lógico que los hackers pongan la diana de sus ataques (virus y malware) en el sistema operativo que cuenta con más usuarios a nivel global. Dicho de otro modo: Linux se presenta a sus usuarios en distintas formas (la más conocida es Ubuntu), lo cual es al mismo tiempo una virtud, ya que ofrece más opciones a los usuarios, pero también un defecto, pues esto supone también un lastre a la hora de competir con el gigante de Microsoft. Pero el hecho de ser considerada Linux una plataforma destinada a un público limitado encierra en sí mismo una gran desventaja: el software compatible disponible es mucho más reducido que el que está al alcance de los usuarios de Windows.', 'WindowsLinuxInterfaz de usuarioGUI orientada al usuario medio, con opciones limitadas de personalización fuera de temas predefinidos.Altamente personalizable con múltiples entornos de escritorio.Modelo de distribución y licenciaPrivado, requiere compra o licencia.Open Source, gratuito para descargar y usar.Seguridad y estabilidadVulnerable a malware, aunque con mejoras en versiones recientes.Más seguro y estable debido a su menor cuota de mercado y diseño.Compatibilidad de software y hardwareAmplio soporte de hardware y software gracias a su dominio en el mercado.Compatible con una amplia gama de hardware, aunque algunos softwares específicos no están disponibles.Soporte y comunidadSoporte técnico formal a través de Microsoft y una gran cantidad de documentación y foros de usuarios.Soporte comunitario a través de foros y documentación en línea, pero sin soporte técnico oficial. En la cara B, encontramos que Linux puede presentar una curva de aprendizaje más pronunciada para los usuarios acostumbrados a otros sistemas operativos debido a su diversidad de entornos de escritorio y opciones de configuración.', 'Por otro lado, es lógico que los hackers pongan la diana de sus ataques (virus y malware) en el sistema operativo que cuenta con más usuarios a nivel global. Dicho de otro modo: Linux se presenta a sus usuarios en distintas formas (la más conocida es Ubuntu), lo cual es al mismo tiempo una virtud, ya que ofrece más opciones a los usuarios, pero también un defecto, pues esto supone también un lastre a la hora de competir con el gigante de Microsoft. Pero el hecho de ser considerada Linux una plataforma destinada a un público limitado encierra en sí mismo una gran desventaja: el software compatible disponible es mucho más reducido que el que está al alcance de los usuarios de Windows.', 'Por otro lado, aunque Linux ha mejorado su interfaz de usuario y su compatibilidad con el software, todavía se queda detrás de Windows en términos de facilidad de uso, especialmente para los usuarios menos técnicos. *¿Qué sistema operativo es mejor para los juegos, Windows o Linux?*Aunque Linux ha hecho grandes progresos en términos de juegos, Windows sigue siendo la plataforma de elección para los jugadores debido a su amplia compatibilidad con la mayoría de los títulos de juegos y hardware gráfico. ¿Que tiene Windows que no tenga Linux?Aunque Linux ofrece una amplia gama de ventajas, hay algunas características y funciones que son exclusivas de Windows o se manejan de manera más eficaz en este sistema operativo.', 'Diferencias entre Windows y Linux Conoce Linux. El sistema operativo Linux, perteneciente a una comunidad Open Source, están desarrollados sobre un kernel, el cual fue creado por Linus Benedict Torvalds en el año 1991, siendo lanzado al mercado en el mismo año.. Un sistema operativo de complejo entendimiento, debido a su organización en distribuciones o distros.']}}"
      ],
      "text/plain": [
       "<IPython.core.display.Markdown object>"
      ]
     },
     "metadata": {},
     "output_type": "display_data"
    },
    {
     "data": {
      "text/markdown": [
       "### Respuesta del sistema: \n",
       "\n",
       "{'generate': {'draft': '**Diferencias entre Windows y Linux**\\n\\nWindows y Linux son dos sistemas operativos que se diferencian en varios aspectos clave. Windows, desarrollado por Microsoft, es un sistema propietario que prioriza la facilidad de uso y la compatibilidad con una amplia gama de software y hardware. En contraste, Linux es un sistema de código abierto, altamente personalizable y conocido por su estabilidad y seguridad, aunque puede presentar una curva de aprendizaje más pronunciada para los nuevos usuarios.\\n\\nLa elección entre Windows y Linux depende de las necesidades individuales. Windows es ideal para usuarios que buscan una experiencia intuitiva y un amplio soporte de software, especialmente en juegos. Por otro lado, Linux es preferido por aquellos que valoran la personalización, la seguridad y el software libre. En última instancia, cada sistema operativo tiene sus ventajas y desventajas, lo que hace esencial evaluar las preferencias personales antes de decidir.', 'revision_number': 3}}"
      ],
      "text/plain": [
       "<IPython.core.display.Markdown object>"
      ]
     },
     "metadata": {},
     "output_type": "display_data"
    }
   ],
   "source": [
    "from IPython.display import display, Markdown\n",
    "\n",
    "# Simulación del stream y de las salidas\n",
    "thread = {\"configurable\": {\"thread_id\": \"1\"}}\n",
    "\n",
    "# Función para generar una salida más bonita\n",
    "def print_pretty_output():\n",
    "    for s in graph.stream({\n",
    "        'task': \"Cual es la diferencia entre windows y linux\",\n",
    "        \"max_revisions\": 2,\n",
    "        \"revision_number\": 1,\n",
    "    }, thread):\n",
    "        # Usamos Markdown para mejorar la presentación\n",
    "        display(Markdown(f\"### Respuesta del sistema: \\n\\n{s}\"))\n",
    "\n",
    "# Llamar la función\n",
    "print_pretty_output()"
   ]
  },
  {
   "cell_type": "code",
   "execution_count": 26,
   "id": "98f3be1d-cc4c-41fa-9863-3e386e88e305",
   "metadata": {
    "height": 149
   },
   "outputs": [],
   "source": [
    "# thread = {\"configurable\": {\"thread_id\": \"1\"}}\n",
    "# for s in graph.stream({\n",
    "#     'task': \"Cual es la diferencia entre langchain y langsmith\",\n",
    "#     \"max_revisions\": 2,\n",
    "#     \"revision_number\": 1,\n",
    "# }, thread):\n",
    "#     print(s)"
   ]
  }
 ],
 "metadata": {
  "kernelspec": {
   "display_name": "Python 3",
   "language": "python",
   "name": "python3"
  },
  "language_info": {
   "codemirror_mode": {
    "name": "ipython",
    "version": 3
   },
   "file_extension": ".py",
   "mimetype": "text/x-python",
   "name": "python",
   "nbconvert_exporter": "python",
   "pygments_lexer": "ipython3",
   "version": "3.10.15"
  }
 },
 "nbformat": 4,
 "nbformat_minor": 5
}
