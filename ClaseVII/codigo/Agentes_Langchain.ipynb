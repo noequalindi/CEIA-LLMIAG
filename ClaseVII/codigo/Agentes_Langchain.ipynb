{
 "cells": [
  {
   "cell_type": "markdown",
   "id": "21fa2e13-567d-4509-9023-c99fb230f31f",
   "metadata": {},
   "source": [
    "Agente ReACT con LangGraph Components"
   ]
  },
  {
   "cell_type": "code",
   "execution_count": 2,
   "id": "d0168aee-bce9-4d60-b827-f86a88187e31",
   "metadata": {
    "height": 132
   },
   "outputs": [],
   "source": [
    "from langgraph.graph import StateGraph, END\n",
    "from typing import TypedDict, Annotated\n",
    "import operator\n",
    "from langchain_core.messages import AnyMessage, SystemMessage, HumanMessage, ToolMessage\n",
    "from langchain_openai import ChatOpenAI\n",
    "from langchain_community.tools.tavily_search import TavilySearchResults\n",
    "import os\n"
   ]
  },
  {
   "cell_type": "code",
   "execution_count": 3,
   "id": "2589c5b6-6cc2-4594-9a17-dccdcf676054",
   "metadata": {
    "height": 64
   },
   "outputs": [
    {
     "name": "stdout",
     "output_type": "stream",
     "text": [
      "<class 'langchain_community.tools.tavily_search.tool.TavilySearchResults'>\n",
      "tavily_search_results_json\n"
     ]
    }
   ],
   "source": [
    "# Esta herramienta realizará una búsqueda en internet\n",
    "# y devolverá un máximo de 4 resultados relevantes para la consulta realizada\n",
    "tool = TavilySearchResults(max_results=4) \n",
    "print(type(tool))\n",
    "print(tool.name)"
   ]
  },
  {
   "cell_type": "code",
   "execution_count": 4,
   "id": "a2ba84ec-c172-4de7-ac55-e3158a531b23",
   "metadata": {
    "height": 47
   },
   "outputs": [],
   "source": [
    "class AgentState(TypedDict):\n",
    "    messages: Annotated[list[AnyMessage], operator.add]"
   ]
  },
  {
   "cell_type": "markdown",
   "id": "74c7ba73-e603-453b-b06f-5db92c567b19",
   "metadata": {},
   "source": [
    "> Nota: En take_action abajo, se añadió algo de lógica para cubrir el caso en que el LLM (Modelo de Lenguaje Grande) devuelve un nombre de herramienta inexistente. Incluso con la llamada a funciones, los LLMs todavía pueden ocasionalmente inventar información. ¡Cabe destacar que lo único que se hace es indicarle al LLM que intente nuevamente! Es una ventaja de una organización con Agente."
   ]
  },
  {
   "cell_type": "code",
   "execution_count": 5,
   "id": "876d5092-b8ef-4e38-b4d7-0e80c609bf7a",
   "metadata": {
    "height": 744
   },
   "outputs": [],
   "source": [
    "class Agent:\n",
    "\n",
    "    def __init__(self, model, tools, system=\"\"):\n",
    "        # Inicializa el agente con un modelo, un conjunto de herramientas y un \n",
    "        # mensaje del sistema opcional, y construye un grafo de estados que alterna \n",
    "        # entre invocar al LLM y ejecutar acciones.\n",
    "        self.system = system\n",
    "        graph = StateGraph(AgentState)\n",
    "        graph.add_node(\"llm\", self.call_openai)\n",
    "        graph.add_node(\"action\", self.take_action)\n",
    "        graph.add_conditional_edges(\n",
    "            \"llm\",\n",
    "            self.exists_action,\n",
    "            {True: \"action\", False: END}\n",
    "        )\n",
    "        graph.add_edge(\"action\", \"llm\")\n",
    "        graph.set_entry_point(\"llm\")\n",
    "        self.graph = graph.compile()\n",
    "        self.tools = {t.name: t for t in tools}\n",
    "        self.model = model.bind_tools(tools)\n",
    "\n",
    "\n",
    "    def exists_action(self, state: AgentState):\n",
    "        # Comprueba si el último mensaje generado por el modelo incluye\n",
    "        #  llamadas a herramientas para decidir si debe pasar al estado de acción.\n",
    "        result = state['messages'][-1]\n",
    "        return len(result.tool_calls) > 0\n",
    "\n",
    "    def call_openai(self, state: AgentState):\n",
    "        # Envía los mensajes acumulados al modelo de lenguaje (añadiendo el mensaje del\n",
    "        #  sistema si existe) y devuelve la respuesta del LLM.\n",
    "        messages = state['messages']\n",
    "        if self.system:\n",
    "            messages = [SystemMessage(content=self.system)] + messages\n",
    "        message = self.model.invoke(messages)\n",
    "        return {'messages': [message]}\n",
    "\n",
    "    def take_action(self, state: AgentState):\n",
    "        # Ejecuta las llamadas a herramientas solicitadas por el modelo, captura sus resultados y los envía de\n",
    "        # vuelta al LLM como mensajes de herramienta.\n",
    "        tool_calls = state['messages'][-1].tool_calls\n",
    "        results = []\n",
    "        for t in tool_calls:\n",
    "            print(f\"Calling: {t}\")\n",
    "            if not t['name'] in self.tools:      # check for bad tool name from LLM\n",
    "                print(\"\\n ....bad tool name....\")\n",
    "                result = \"bad tool name, retry\"  # instruct LLM to retry if bad\n",
    "            else:\n",
    "                result = self.tools[t['name']].invoke(t['args'])\n",
    "            results.append(ToolMessage(tool_call_id=t['id'], name=t['name'], content=str(result)))\n",
    "        print(\"Back to the model!\")\n",
    "        return {'messages': results}"
   ]
  },
  {
   "cell_type": "code",
   "execution_count": 6,
   "id": "10084a02-2928-4945-9f7c-ad3f5b33caf7",
   "metadata": {
    "height": 166
   },
   "outputs": [],
   "source": [
    "ChatOpenAI.api_key = os.getenv(\"OPENAI_API_KEY\")\n",
    "prompt = \"\"\"\n",
    "Eres un asistente de investigación inteligente. Utiliza el motor de búsqueda para buscar información.\n",
    "Puedes realizar múltiples consultas (ya sea juntas o en secuencia).\n",
    "Solo busca información cuando estés seguro de lo que necesitas.\n",
    "Si necesitas buscar información antes de hacer una pregunta de seguimiento, ¡puedes hacerlo!\n",
    "\"\"\"\n",
    "\n",
    "model = ChatOpenAI(model=\"gpt-4o-mini\")  #reduce inference cost\n",
    "abot = Agent(model, [tool], system=prompt)"
   ]
  },
  {
   "cell_type": "code",
   "execution_count": 7,
   "id": "a3d6f5f4-2392-41b9-ab96-7919840baa3e",
   "metadata": {
    "height": 64
   },
   "outputs": [
    {
     "data": {
      "image/png": "[encoded data removed]",
      "text/plain": [
       "<IPython.core.display.Image object>"
      ]
     },
     "execution_count": 7,
     "metadata": {},
     "output_type": "execute_result"
    }
   ],
   "source": [
    "import pygraphviz\n",
    "from IPython.display import Image\n",
    "\n",
    "Image(abot.graph.get_graph().draw_png())"
   ]
  },
  {
   "cell_type": "code",
   "execution_count": 8,
   "id": "83588e70-254f-4f83-a510-c8ae81e729b0",
   "metadata": {
    "height": 47
   },
   "outputs": [
    {
     "name": "stdout",
     "output_type": "stream",
     "text": [
      "Calling: {'name': 'tavily_search_results_json', 'args': {'query': 'temperatura actual en San Francisco'}, 'id': 'call_028czRzNN6zeWN47ZEijwN9k', 'type': 'tool_call'}\n",
      "Back to the model!\n"
     ]
    }
   ],
   "source": [
    "messages = [HumanMessage(content=\"cual es la temperatura en san francisco?\")]\n",
    "result = abot.graph.invoke({\"messages\": messages})"
   ]
  },
  {
   "cell_type": "code",
   "execution_count": 9,
   "id": "89a06a8c-fcd4-4ca6-98f0-36c5809813e6",
   "metadata": {
    "height": 30,
    "scrolled": true
   },
   "outputs": [
    {
     "name": "stdout",
     "output_type": "stream",
     "text": [
      "{'messages': [HumanMessage(content='cual es la temperatura en san francisco?', additional_kwargs={}, response_metadata={}),\n",
      "              AIMessage(content='', additional_kwargs={'tool_calls': [{'id': 'call_028czRzNN6zeWN47ZEijwN9k', 'function': {'arguments': '{\"query\":\"temperatura actual en San Francisco\"}', 'name': 'tavily_search_results_json'}, 'type': 'function'}], 'refusal': None}, response_metadata={'token_usage': {'completion_tokens': 24, 'prompt_tokens': 150, 'total_tokens': 174, 'completion_tokens_details': {'accepted_prediction_tokens': 0, 'audio_tokens': 0, 'reasoning_tokens': 0, 'rejected_prediction_tokens': 0}, 'prompt_tokens_details': {'audio_tokens': 0, 'cached_tokens': 0}}, 'model_name': 'gpt-4o-mini-2024-07-18', 'system_fingerprint': 'fp_44added55e', 'finish_reason': 'tool_calls', 'logprobs': None}, id='run-ca5c7975-3bd8-402e-a54f-2c60315c7c3c-0', tool_calls=[{'name': 'tavily_search_results_json', 'args': {'query': 'temperatura actual en San Francisco'}, 'id': 'call_028czRzNN6zeWN47ZEijwN9k', 'type': 'tool_call'}], usage_metadata={'input_tokens': 150, 'output_tokens': 24, 'total_tokens': 174, 'input_token_details': {'audio': 0, 'cache_read': 0}, 'output_token_details': {'audio': 0, 'reasoning': 0}}),\n",
      "              ToolMessage(content=\"[{'url': 'https://www.tiempo3.com/north-america/usa/california/san-francisco', 'content': 'La temperatura actual en San Francisco es de °. La temperatura máxima en San Francisco para hoy será de ° y la mínima se encontrará en torno a los °.\\\\n\\\\nPonemos a tu alcance una gran cantidad de información, así siempre estarás preparado para lo que la Madre Naturaleza tenga pensado en cuanto al clima en San Francisco para los próximos 14 días.'}, {'url': 'https://es.weatherandradar.com/tiempo/san-francisco/3575911', 'content': 'Hoy hasta la tarde-noche habrá claros y nubes, y permanecerá sin precipitaciones. La temperatura actual es de 63 grados y más tarde descenderá hasta los 54'}, {'url': 'https://www.tiempo3.com/north-america/usa/california/san-francisco?page=today', 'content': 'Hoy por la noche, en San Francisco, se espera una temperatura de 13°C y un viento que sople con una velocidad de 7 Km/h. Amanecer y atardecer en San Francisco.'}, {'url': 'https://www.accuweather.com/es/us/san-francisco/94103/current-weather/347629', 'content': 'El tiempo ahora ; Nubosidad. 77 % ; Visibilidad. 8 mi ; Techo de nubes. 34000 ft ; Historial de temperaturas. 11/4 ; Previsión. 61°. 48°.'}]\", name='tavily_search_results_json', tool_call_id='call_028czRzNN6zeWN47ZEijwN9k'),\n",
      "              AIMessage(content='La temperatura actual en San Francisco es de aproximadamente 63 grados Fahrenheit (alrededor de 17°C). Para esta tarde-noche, se espera que la temperatura descienda hasta los 54 grados Fahrenheit (alrededor de 12°C). \\n\\nSi deseas más información sobre el clima, puedes consultar [Weather and Radar](https://es.weatherandradar.com/tiempo/san-francisco/3575911).', additional_kwargs={'refusal': None}, response_metadata={'token_usage': {'completion_tokens': 90, 'prompt_tokens': 515, 'total_tokens': 605, 'completion_tokens_details': {'accepted_prediction_tokens': 0, 'audio_tokens': 0, 'reasoning_tokens': 0, 'rejected_prediction_tokens': 0}, 'prompt_tokens_details': {'audio_tokens': 0, 'cached_tokens': 0}}, 'model_name': 'gpt-4o-mini-2024-07-18', 'system_fingerprint': 'fp_44added55e', 'finish_reason': 'stop', 'logprobs': None}, id='run-0db8b961-a4ee-4181-a3bc-cf0ab82e3883-0', usage_metadata={'input_tokens': 515, 'output_tokens': 90, 'total_tokens': 605, 'input_token_details': {'audio': 0, 'cache_read': 0}, 'output_token_details': {'audio': 0, 'reasoning': 0}})]}\n"
     ]
    }
   ],
   "source": [
    "import pprint\n",
    "pprint.pprint(result)"
   ]
  },
  {
   "cell_type": "code",
   "execution_count": 10,
   "id": "6cb3ef4c-58b3-401b-b104-0d51e553d982",
   "metadata": {
    "height": 30
   },
   "outputs": [
    {
     "data": {
      "text/plain": [
       "'La temperatura actual en San Francisco es de aproximadamente 63 grados Fahrenheit (alrededor de 17°C). Para esta tarde-noche, se espera que la temperatura descienda hasta los 54 grados Fahrenheit (alrededor de 12°C). \\n\\nSi deseas más información sobre el clima, puedes consultar [Weather and Radar](https://es.weatherandradar.com/tiempo/san-francisco/3575911).'"
      ]
     },
     "execution_count": 10,
     "metadata": {},
     "output_type": "execute_result"
    }
   ],
   "source": [
    "result['messages'][-1].content"
   ]
  },
  {
   "cell_type": "code",
   "execution_count": 11,
   "id": "dc3293b7-a50c-43c8-a022-8975e1e444b8",
   "metadata": {
    "height": 47
   },
   "outputs": [
    {
     "name": "stdout",
     "output_type": "stream",
     "text": [
      "Calling: {'name': 'tavily_search_results_json', 'args': {'query': 'temperatura actual en San Francisco'}, 'id': 'call_IVbYLo7hlFJvLkDtLlz2c2Id', 'type': 'tool_call'}\n",
      "Calling: {'name': 'tavily_search_results_json', 'args': {'query': 'temperatura actual en Los Angeles'}, 'id': 'call_BNbjob4j3PDSrPAEGPltct80', 'type': 'tool_call'}\n",
      "Back to the model!\n"
     ]
    }
   ],
   "source": [
    "messages = [HumanMessage(content=\"Cual es la temperatura en San Francisco y Los Angeles?\")]\n",
    "result = abot.graph.invoke({\"messages\": messages})"
   ]
  },
  {
   "cell_type": "code",
   "execution_count": 13,
   "id": "0722c3d4-4cbf-43bf-81b0-50f634c4ce61",
   "metadata": {
    "height": 30
   },
   "outputs": [
    {
     "data": {
      "text/plain": [
       "'La temperatura actual en San Francisco es de aproximadamente **63°F (17°C)**, y se espera que descienda a **54°F (12°C)** más tarde. Para más detalles, puedes consultar [este enlace](https://es.weatherandradar.com/tiempo/san-francisco/3575911).\\n\\nEn Los Ángeles, la temperatura actual es de **13°C (55°F)**, y se espera que alcance una máxima de **24°C (75°F)** durante el día. Para más información, puedes visitar [este enlace](https://www.tiempo3.com/north-america/usa/california/los-angeles).'"
      ]
     },
     "execution_count": 13,
     "metadata": {},
     "output_type": "execute_result"
    }
   ],
   "source": [
    "result['messages'][-1].content"
   ]
  },
  {
   "cell_type": "code",
   "execution_count": 14,
   "id": "6b2f82fe-3ec4-4917-be51-9fb10d1317fa",
   "metadata": {
    "height": 200
   },
   "outputs": [
    {
     "name": "stdout",
     "output_type": "stream",
     "text": [
      "Calling: {'name': 'tavily_search_results_json', 'args': {'query': 'Super Bowl 2024 ganador'}, 'id': 'call_KnuIWZZxPmzriePiiH0DTmIa', 'type': 'tool_call'}\n",
      "Back to the model!\n",
      "Calling: {'name': 'tavily_search_results_json', 'args': {'query': 'PBI Nevada 2024'}, 'id': 'call_acUIePmWiN2A0TSAkVs29KHc', 'type': 'tool_call'}\n",
      "Back to the model!\n",
      "Calling: {'name': 'tavily_search_results_json', 'args': {'query': 'PBI de Nevada 2023'}, 'id': 'call_x3U3NcYtgp28sxfbtYfvAO4s', 'type': 'tool_call'}\n",
      "Back to the model!\n"
     ]
    }
   ],
   "source": [
    "# Nota: la consulta fue modificada para producir resultados más consistentes.\n",
    "# Los resultados pueden variar en cada ejecución y a lo largo del tiempo, ya que la información de búsqueda y los modelos cambian.\n",
    "\n",
    "query = \"¿Quién ganó el Super Bowl en 2024? ¿En qué estado se encuentra la sede del equipo ganador?\" \\\n",
    "\"¿Cuál es el PBI de ese estado? Responde cada pregunta.\" \n",
    "messages = [HumanMessage(content=query)]\n",
    "\n",
    "model = ChatOpenAI(model=\"gpt-4o-mini\")  \n",
    "abot = Agent(model, [tool], system=prompt)\n",
    "result = abot.graph.invoke({\"messages\": messages})"
   ]
  },
  {
   "cell_type": "code",
   "execution_count": 15,
   "id": "ee0fe1c7-77e2-499c-a2f9-1f739bb6ddf0",
   "metadata": {
    "height": 30
   },
   "outputs": [
    {
     "name": "stdout",
     "output_type": "stream",
     "text": [
      "1. **¿Quién ganó el Super Bowl en 2024?**\n",
      "   El Super Bowl en 2024 fue ganado por los Kansas City Chiefs, quienes derrotaron a los San Francisco 49ers con un marcador de 25-22 en tiempo extra.\n",
      "\n",
      "2. **¿En qué estado se encuentra la sede del equipo ganador?**\n",
      "   La sede del equipo ganador, los Kansas City Chiefs, se encuentra en el estado de Missouri.\n",
      "\n",
      "3. **¿Cuál es el PBI de ese estado?**\n",
      "   El Producto Bruto Interno (PBI) de Missouri en 2023 es de aproximadamente 331,6 mil millones de dólares.\n"
     ]
    }
   ],
   "source": [
    "print(result['messages'][-1].content)"
   ]
  },
  {
   "cell_type": "code",
   "execution_count": null,
   "id": "1d643182-2802-40fb-ba35-d4f893c5b976",
   "metadata": {
    "height": 30
   },
   "outputs": [],
   "source": []
  }
 ],
 "metadata": {
  "kernelspec": {
   "display_name": "Python 3",
   "language": "python",
   "name": "python3"
  },
  "language_info": {
   "codemirror_mode": {
    "name": "ipython",
    "version": 3
   },
   "file_extension": ".py",
   "mimetype": "text/x-python",
   "name": "python",
   "nbconvert_exporter": "python",
   "pygments_lexer": "ipython3",
   "version": "3.10.15"
  }
 },
 "nbformat": 4,
 "nbformat_minor": 5
}
