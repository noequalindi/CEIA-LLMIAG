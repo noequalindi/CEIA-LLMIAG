{
 "cells": [
  {
   "cell_type": "markdown",
   "id": "9690ac72-5d95-4cbf-875a-ae0e835593c9",
   "metadata": {},
   "source": [
    "# ReAct agente desde cero"
   ]
  },
  {
   "cell_type": "code",
   "execution_count": null,
   "id": "83588e70-254f-4f83-a510-c8ae81e729b0",
   "metadata": {
    "height": 30
   },
   "outputs": [],
   "source": [
    "# Basado en https://til.simonwillison.net/llms/python-react-pattern"
   ]
  },
  {
   "cell_type": "code",
   "execution_count": 2,
   "id": "6cb3ef4c-58b3-401b-b104-0d51e553d982",
   "metadata": {
    "height": 149
   },
   "outputs": [],
   "source": [
    "import openai\n",
    "import re\n",
    "import os"
   ]
  },
  {
   "cell_type": "code",
   "execution_count": 3,
   "id": "dc3293b7-a50c-43c8-a022-8975e1e444b8",
   "metadata": {
    "height": 30
   },
   "outputs": [],
   "source": [
    "openai.api_key = os.getenv(\"OPENAI_API_KEY\")\n",
    "client = openai.OpenAI()"
   ]
  },
  {
   "cell_type": "code",
   "execution_count": 4,
   "id": "0722c3d4-4cbf-43bf-81b0-50f634c4ce61",
   "metadata": {
    "height": 81
   },
   "outputs": [],
   "source": [
    "chat_completion = client.chat.completions.create(\n",
    "    model = \"gpt-4o-mini\",\n",
    "    # model=\"gpt-3.5-turbo\",\n",
    "    messages=[{\"role\": \"user\", \"content\": \"Hello world\"}]\n",
    ")"
   ]
  },
  {
   "cell_type": "code",
   "execution_count": 5,
   "id": "6b2f82fe-3ec4-4917-be51-9fb10d1317fa",
   "metadata": {
    "height": 30
   },
   "outputs": [
    {
     "data": {
      "text/plain": [
       "'Hello! How can I assist you today?'"
      ]
     },
     "execution_count": 5,
     "metadata": {},
     "output_type": "execute_result"
    }
   ],
   "source": [
    "chat_completion.choices[0].message.content"
   ]
  },
  {
   "cell_type": "code",
   "execution_count": 7,
   "id": "ee0fe1c7-77e2-499c-a2f9-1f739bb6ddf0",
   "metadata": {
    "height": 387
   },
   "outputs": [],
   "source": [
    "class Agent:\n",
    "    def __init__(self, system=\"\"):\n",
    "        # Cada vez que lo llamo, se añade un nuevo mensaje a la conversación.\n",
    "        self.system = system\n",
    "        self.messages = []\n",
    "        if self.system:\n",
    "            self.messages.append({\"role\": \"system\", \"content\": system})\n",
    "\n",
    "    def __call__(self, message):\n",
    "        # Almacena el mensaje del usuario y lo envía al modelo.\n",
    "        self.messages.append({\"role\": \"user\", \"content\": message})\n",
    "        result = self.execute()\n",
    "        # Almacena la respuesta del modelo.\n",
    "        self.messages.append({\"role\": \"assistant\", \"content\": result})\n",
    "        return result\n",
    "\n",
    "    def execute(self):\n",
    "        # Ejecuta el modelo y devuelve la respuesta.\n",
    "        completion = client.chat.completions.create(\n",
    "                        model=\"gpt-4o\", \n",
    "                        temperature=0,\n",
    "                        messages=self.messages)\n",
    "        return completion.choices[0].message.content\n",
    "    "
   ]
  },
  {
   "cell_type": "code",
   "execution_count": 8,
   "id": "98f303b1-a4d0-408c-8cc0-515ff980717f",
   "metadata": {
    "height": 557
   },
   "outputs": [],
   "source": [
    "prompt = \"\"\"\n",
    "Corres en un ciclo de Pensamiento, Acción, PAUSA, Observación.\n",
    "Al final del ciclo, das una Respuesta.\n",
    "\n",
    "Usa el Pensamiento para describir tus pensamientos sobre la pregunta que se te ha hecho.\n",
    "Usa la Acción para realizar una de las acciones disponibles para ti, luego regresa a PAUSA.\n",
    "La Observación será el resultado de ejecutar esas acciones.\n",
    "\n",
    "Tus acciones disponibles son:\n",
    "\n",
    "calcular:\n",
    "Ejemplo: calcular: 4 * 7 / 3\n",
    "Ejecuta un cálculo y devuelve el número, usa la sintaxis de punto flotante si es necesario.\n",
    "\n",
    "peso_promedio_perro:\n",
    "Ejemplo: peso_promedio_perro: Collie\n",
    "Devuelve el peso promedio de un perro cuando se da la raza.\n",
    "\n",
    "Ejemplo de sesión:\n",
    "\n",
    "Pregunta: ¿Cuánto pesa un Bulldog?\n",
    "Pensamiento: Debería buscar el peso del perro usando peso_promedio_perro.\n",
    "Acción: peso_promedio_perro: Bulldog\n",
    "PAUSA\n",
    "\n",
    "Te llamarán nuevamente con esto:\n",
    "\n",
    "Observación: Un Bulldog pesa 51 libras.\n",
    "\n",
    "Luego respondes:\n",
    "\n",
    "Respuesta: Un Bulldog pesa 51 libras.\n",
    "\"\"\".strip()"
   ]
  },
  {
   "cell_type": "code",
   "execution_count": 9,
   "id": "bf4dcb93-6298-4cfd-b3ce-61dfac7fb35f",
   "metadata": {
    "height": 302
   },
   "outputs": [],
   "source": [
    "# Estas son mis dos acciones (agentes)\n",
    "def calcular(what):\n",
    "    return eval(what)\n",
    "\n",
    "def peso_promedio_perro(name):\n",
    "    if name in \"Scottish Terrier\": \n",
    "        return(\"El peso promedio de un Scottish Terrier es 20 libras\")\n",
    "    elif name in \"Border Collie\":\n",
    "        return(\"El peso promedio de un Border Collie es 37 libras\")\n",
    "    elif name in \"Toy Poodle\":\n",
    "        return(\"El peso promedio de un Toy Poodle es 7 libras\")\n",
    "    else:\n",
    "        return(\"El peso promedio de un perro es 50 libras\")\n",
    "\n"
   ]
  },
  {
   "cell_type": "code",
   "execution_count": 10,
   "id": "932883a4-c722-42bb-aec0-b4f41c5c81a4",
   "metadata": {
    "height": 30
   },
   "outputs": [],
   "source": [
    "abot = Agent(prompt)"
   ]
  },
  {
   "cell_type": "code",
   "execution_count": 11,
   "id": "ff362f49-dcf1-4ea1-a86c-e516e9ab897d",
   "metadata": {
    "height": 47
   },
   "outputs": [
    {
     "name": "stdout",
     "output_type": "stream",
     "text": [
      "Pensamiento: Debería buscar el peso del perro usando peso_promedio_perro.\n",
      "Acción: peso_promedio_perro: Toy Poodle\n",
      "PAUSA\n"
     ]
    }
   ],
   "source": [
    "result = abot(\"Cuánto pesa un toy poodle?\")\n",
    "print(result)"
   ]
  },
  {
   "cell_type": "code",
   "execution_count": 12,
   "id": "a7e15a20-83d7-434c-8551-bce8dcc32be0",
   "metadata": {
    "height": 30
   },
   "outputs": [
    {
     "name": "stdout",
     "output_type": "stream",
     "text": [
      "El peso promedio de un Toy Poodle es 7 libras\n"
     ]
    }
   ],
   "source": [
    "result = peso_promedio_perro(\"Toy Poodle\")\n",
    "print(result)"
   ]
  },
  {
   "cell_type": "code",
   "execution_count": 13,
   "id": "a833d3ce-bd31-4319-811d-decff226b970",
   "metadata": {
    "height": 30
   },
   "outputs": [],
   "source": [
    "next_prompt = \"Observacion: {}\".format(result)"
   ]
  },
  {
   "cell_type": "code",
   "execution_count": 14,
   "id": "76e93cce-6eab-4c7c-ac64-e9993fdb30d6",
   "metadata": {
    "height": 30
   },
   "outputs": [
    {
     "data": {
      "text/plain": [
       "'Respuesta: Un Toy Poodle pesa en promedio 7 libras.'"
      ]
     },
     "execution_count": 14,
     "metadata": {},
     "output_type": "execute_result"
    }
   ],
   "source": [
    "abot(next_prompt)"
   ]
  },
  {
   "cell_type": "code",
   "execution_count": 15,
   "id": "641ee305",
   "metadata": {},
   "outputs": [
    {
     "name": "stdout",
     "output_type": "stream",
     "text": [
      "Mensaje 1:\n",
      "  Rol: system\n",
      "  Contenido: Corres en un ciclo de Pensamiento, Acción, PAUSA, Observación.\n",
      "Al final del ciclo, das una Respuesta.\n",
      "\n",
      "Usa el Pensamiento para describir tus pensamientos sobre la pregunta que se te ha hecho.\n",
      "Usa la Acción para realizar una de las acciones disponibles para ti, luego regresa a PAUSA.\n",
      "La Observación será el resultado de ejecutar esas acciones.\n",
      "\n",
      "Tus acciones disponibles son:\n",
      "\n",
      "calcular:\n",
      "Ejemplo: calcular: 4 * 7 / 3\n",
      "Ejecuta un cálculo y devuelve el número, usa la sintaxis de punto flotante si es necesario.\n",
      "\n",
      "peso_promedio_perro:\n",
      "Ejemplo: peso_promedio_perro: Collie\n",
      "Devuelve el peso promedio de un perro cuando se da la raza.\n",
      "\n",
      "Ejemplo de sesión:\n",
      "\n",
      "Pregunta: ¿Cuánto pesa un Bulldog?\n",
      "Pensamiento: Debería buscar el peso del perro usando peso_promedio_perro.\n",
      "Acción: peso_promedio_perro: Bulldog\n",
      "PAUSA\n",
      "\n",
      "Te llamarán nuevamente con esto:\n",
      "\n",
      "Observación: Un Bulldog pesa 51 libras.\n",
      "\n",
      "Luego respondes:\n",
      "\n",
      "Respuesta: Un Bulldog pesa 51 libras.\n",
      "----------------------------------------\n",
      "Mensaje 2:\n",
      "  Rol: user\n",
      "  Contenido: Cuánto pesa un toy poodle?\n",
      "----------------------------------------\n",
      "Mensaje 3:\n",
      "  Rol: assistant\n",
      "  Contenido: Pensamiento: Debería buscar el peso del perro usando peso_promedio_perro.\n",
      "Acción: peso_promedio_perro: Toy Poodle\n",
      "PAUSA\n",
      "----------------------------------------\n",
      "Mensaje 4:\n",
      "  Rol: user\n",
      "  Contenido: Observacion: El peso promedio de un Toy Poodle es 7 libras\n",
      "----------------------------------------\n",
      "Mensaje 5:\n",
      "  Rol: assistant\n",
      "  Contenido: Respuesta: Un Toy Poodle pesa en promedio 7 libras.\n",
      "----------------------------------------\n"
     ]
    }
   ],
   "source": [
    "for idx, message in enumerate(abot.messages):\n",
    "    print(f\"Mensaje {idx + 1}:\")\n",
    "    print(f\"  Rol: {message['role']}\")\n",
    "    print(f\"  Contenido: {message['content']}\")\n",
    "    print(\"-\" * 40)"
   ]
  },
  {
   "cell_type": "code",
   "execution_count": 16,
   "id": "27cde654-64e2-48bc-80a9-0ed668ccb7dc",
   "metadata": {
    "height": 30
   },
   "outputs": [],
   "source": [
    "abot = Agent(prompt)"
   ]
  },
  {
   "cell_type": "code",
   "execution_count": 17,
   "id": "4871f644-b131-4065-b7ce-b82c20a41f11",
   "metadata": {
    "height": 64
   },
   "outputs": [
    {
     "data": {
      "text/plain": [
       "'Pensamiento: Para responder a esta pregunta, necesito encontrar el peso promedio de un border collie y un scottish terrier, y luego sumar esos dos valores. Usaré la acción peso_promedio_perro para obtener el peso de cada raza.\\n\\nAcción: peso_promedio_perro: Border Collie\\nPAUSA'"
      ]
     },
     "execution_count": 17,
     "metadata": {},
     "output_type": "execute_result"
    }
   ],
   "source": [
    "question = \"\"\"Tengo dos perros, un border collie y un scottish terrier. \\\n",
    "Cuanto pesan entre los dos?\"\"\"\n",
    "abot(question)"
   ]
  },
  {
   "cell_type": "code",
   "execution_count": 18,
   "id": "8c3d8070-3f36-4cf0-a677-508e54359c8f",
   "metadata": {
    "height": 47
   },
   "outputs": [
    {
     "name": "stdout",
     "output_type": "stream",
     "text": [
      "Observacion: El peso promedio de un Border Collie es 37 libras\n"
     ]
    }
   ],
   "source": [
    "next_prompt = \"Observacion: {}\".format(peso_promedio_perro(\"Border Collie\"))\n",
    "print(next_prompt)"
   ]
  },
  {
   "cell_type": "code",
   "execution_count": 19,
   "id": "98f3be1d-cc4c-41fa-9863-3e386e88e305",
   "metadata": {
    "height": 30
   },
   "outputs": [
    {
     "data": {
      "text/plain": [
       "'Pensamiento: Ahora que tengo el peso promedio de un Border Collie, necesito encontrar el peso promedio de un Scottish Terrier para poder sumarlos.\\n\\nAcción: peso_promedio_perro: Scottish Terrier\\nPAUSA'"
      ]
     },
     "execution_count": 19,
     "metadata": {},
     "output_type": "execute_result"
    }
   ],
   "source": [
    "abot(next_prompt)"
   ]
  },
  {
   "cell_type": "code",
   "execution_count": 20,
   "id": "0ad8a6cc-65d4-4ce7-87aa-4e67d7c23d7b",
   "metadata": {
    "height": 47
   },
   "outputs": [
    {
     "name": "stdout",
     "output_type": "stream",
     "text": [
      "Observacion: El peso promedio de un Scottish Terrier es 20 libras\n"
     ]
    }
   ],
   "source": [
    "next_prompt = \"Observacion: {}\".format(peso_promedio_perro(\"Scottish Terrier\"))\n",
    "print(next_prompt)"
   ]
  },
  {
   "cell_type": "code",
   "execution_count": 21,
   "id": "592b5e62-a203-433c-92a0-3783f490cde1",
   "metadata": {
    "height": 30
   },
   "outputs": [
    {
     "data": {
      "text/plain": [
       "'Pensamiento: Ahora que tengo el peso promedio de ambos perros, puedo sumar estos valores para obtener el peso total de los dos perros juntos.\\n\\nAcción: calcular: 37 + 20\\nPAUSA'"
      ]
     },
     "execution_count": 21,
     "metadata": {},
     "output_type": "execute_result"
    }
   ],
   "source": [
    "abot(next_prompt)"
   ]
  },
  {
   "cell_type": "code",
   "execution_count": 22,
   "id": "14fa923c-7e4f-42d1-965f-0f8ccd50fbd7",
   "metadata": {
    "height": 47
   },
   "outputs": [
    {
     "name": "stdout",
     "output_type": "stream",
     "text": [
      "Observacion: 57\n"
     ]
    }
   ],
   "source": [
    "next_prompt = \"Observacion: {}\".format(eval(\"37 + 20\"))\n",
    "print(next_prompt)"
   ]
  },
  {
   "cell_type": "code",
   "execution_count": 23,
   "id": "570c6245-2837-4ac5-983b-95f61f3ac10d",
   "metadata": {
    "height": 30
   },
   "outputs": [
    {
     "data": {
      "text/plain": [
       "'Respuesta: El peso combinado de un Border Collie y un Scottish Terrier es de 57 libras.'"
      ]
     },
     "execution_count": 23,
     "metadata": {},
     "output_type": "execute_result"
    }
   ],
   "source": [
    "abot(next_prompt)"
   ]
  },
  {
   "cell_type": "markdown",
   "id": "6b46f2ac-f717-4ab9-b548-f34b74071d76",
   "metadata": {},
   "source": [
    "### Ahora automatizamos en una función"
   ]
  },
  {
   "cell_type": "code",
   "execution_count": 24,
   "id": "6b910915-b087-4d35-afff-0ec30a5852f1",
   "metadata": {
    "height": 30
   },
   "outputs": [],
   "source": [
    "action_re = re.compile('^Acción: (\\w+): (.*)$')   # expresión regular para capturar secuencias de texto\n",
    "\n",
    "acciones_disponibles = {\n",
    "    \"calcular\": calcular,\n",
    "    \"peso_promedio_perro\": peso_promedio_perro\n",
    "}"
   ]
  },
  {
   "cell_type": "code",
   "execution_count": 25,
   "id": "c4feb6cc-5129-4a99-bb45-851bc07b5709",
   "metadata": {
    "height": 421
   },
   "outputs": [],
   "source": [
    "def query(question, max_turns=5):\n",
    "    i = 0\n",
    "    bot = Agent(prompt)\n",
    "    next_prompt = question\n",
    "    while i < max_turns:\n",
    "        i += 1\n",
    "        result = bot(next_prompt)\n",
    "        print(result)\n",
    "        acciones = [\n",
    "            action_re.match(a) \n",
    "            for a in result.split('\\n') \n",
    "            if action_re.match(a)\n",
    "        ]\n",
    "        if acciones:\n",
    "            # There is an action to run\n",
    "            accion, accion_input = acciones[0].groups()\n",
    "            if accion not in acciones_disponibles:\n",
    "                raise Exception(\"Acción desconocida: {}: {}\".format(accion, accion_input))\n",
    "            print(\" -- corriendo {} {}\".format(accion, accion_input))\n",
    "            observacion = acciones_disponibles[accion](accion_input)\n",
    "            print(\"Observacion:\", observacion)\n",
    "            next_prompt = \"Observacion: {}\".format(observacion)\n",
    "        else:\n",
    "            return"
   ]
  },
  {
   "cell_type": "code",
   "execution_count": 26,
   "id": "e85a02b4-96cc-4b01-8792-397a774eb499",
   "metadata": {
    "height": 64
   },
   "outputs": [
    {
     "name": "stdout",
     "output_type": "stream",
     "text": [
      "Pensamiento: Para responder a esta pregunta, necesito encontrar el peso promedio de un border collie y un scottish terrier, y luego sumar esos dos valores. Primero buscaré el peso del border collie.\n",
      "Acción: peso_promedio_perro: Border Collie\n",
      "PAUSA\n",
      " -- corriendo peso_promedio_perro Border Collie\n",
      "Observacion: El peso promedio de un Border Collie es 37 libras\n",
      "Pensamiento: Ahora que tengo el peso promedio del Border Collie, necesito buscar el peso promedio de un Scottish Terrier.\n",
      "Acción: peso_promedio_perro: Scottish Terrier\n",
      "PAUSA\n",
      " -- corriendo peso_promedio_perro Scottish Terrier\n",
      "Observacion: El peso promedio de un Scottish Terrier es 20 libras\n",
      "Pensamiento: Ahora que tengo los pesos promedio de ambos perros, puedo sumar estos valores para obtener el peso total combinado de los dos perros.\n",
      "Acción: calcular: 37 + 20\n",
      "PAUSA\n",
      " -- corriendo calcular 37 + 20\n",
      "Observacion: 57\n",
      "Respuesta: El peso combinado de un Border Collie y un Scottish Terrier es de 57 libras.\n"
     ]
    }
   ],
   "source": [
    "question = \"\"\"Tengo dos perros, un border collie y un scottish terrier. \\\n",
    "Cuanto pesan entre los dos?\"\"\"\n",
    "query(question)"
   ]
  },
  {
   "cell_type": "code",
   "execution_count": null,
   "id": "ae8b86a6-5e20-4252-b1d8-009b8318345a",
   "metadata": {
    "height": 30
   },
   "outputs": [],
   "source": []
  },
  {
   "cell_type": "code",
   "execution_count": null,
   "id": "af925917-b746-48c9-ac74-62fefbe5246c",
   "metadata": {
    "height": 30
   },
   "outputs": [],
   "source": []
  }
 ],
 "metadata": {
  "kernelspec": {
   "display_name": "Python 3",
   "language": "python",
   "name": "python3"
  },
  "language_info": {
   "codemirror_mode": {
    "name": "ipython",
    "version": 3
   },
   "file_extension": ".py",
   "mimetype": "text/x-python",
   "name": "python",
   "nbconvert_exporter": "python",
   "pygments_lexer": "ipython3",
   "version": "3.10.15"
  }
 },
 "nbformat": 4,
 "nbformat_minor": 5
}
