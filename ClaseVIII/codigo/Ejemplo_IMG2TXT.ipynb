{
 "cells": [
  {
   "cell_type": "markdown",
   "id": "00b38838-5730-4cb8-860a-c1af45bb685a",
   "metadata": {},
   "source": [
    "# Ejemplo práctico - Imagen a Texto"
   ]
  },
  {
   "cell_type": "code",
   "execution_count": 1,
   "id": "336183fc-6bb3-4121-b64f-33214c9ef376",
   "metadata": {
    "height": 47
   },
   "outputs": [],
   "source": [
    "import warnings\n",
    "warnings.filterwarnings(\"ignore\")"
   ]
  },
  {
   "cell_type": "code",
   "execution_count": 2,
   "id": "67d16026-4eb6-4282-ae8d-4fb7871959c1",
   "metadata": {
    "height": 252
   },
   "outputs": [],
   "source": [
    "import os\n",
    "\n",
    "GOOGLE_API_KEY=os.getenv(\"GOOGLE_API_KEY\")\n",
    "\n",
    "import google.generativeai as genai\n",
    "from google.api_core.client_options import ClientOptions\n",
    "genai.configure(\n",
    "    api_key=GOOGLE_API_KEY,\n",
    "    transport=\"rest\", #  protocolo de comunicacion REST (Representational State Transfer)\n",
    "    client_options=ClientOptions(\n",
    "        api_endpoint=os.getenv(\"GOOGLE_API_BASE\"),\n",
    "    )\n",
    ")"
   ]
  },
  {
   "cell_type": "markdown",
   "id": "46f256f9-ecd9-45e7-b8cb-8d3815df8f28",
   "metadata": {},
   "source": [
    "## Vision Function"
   ]
  },
  {
   "cell_type": "code",
   "execution_count": 3,
   "id": "e50df417-b39b-48e9-af89-c39ff4269f16",
   "metadata": {
    "height": 336
   },
   "outputs": [],
   "source": [
    "import textwrap\n",
    "import PIL.Image\n",
    "from IPython.display import Markdown, Image\n",
    "'''reemplaza los puntos (•) por asteriscos (*) para formato de lista en Markdown, \n",
    "y luego aplica un sangrado de \">\" al texto, formateándolo como un bloque de cita en Markdown.'''\n",
    "def to_markdown(text):\n",
    "    text = text.replace(\"•\", \"  *\")\n",
    "    return Markdown(textwrap.indent(text, \"> \", predicate=lambda _: True))\n",
    "\n",
    "def call_LMM(image_path: str, prompt: str, plain_text: bool=False) -> str:\n",
    "    img = PIL.Image.open(image_path)\n",
    "    genai.configure(api_key=GOOGLE_API_KEY)\n",
    "    model = genai.GenerativeModel(\"gemini-1.5-flash\")\n",
    "    response = model.generate_content([prompt, img], stream=True)\n",
    "    response.resolve()\n",
    "    \n",
    "    if(plain_text):\n",
    "        return response.text\n",
    "    else:\n",
    "        return to_markdown(response.text)"
   ]
  },
  {
   "cell_type": "markdown",
   "id": "3a3ffe26-0b19-432e-9c18-7ae6ac41b437",
   "metadata": {},
   "source": [
    "## Extracción de información estructurada de imagen\n",
    "### Análisis del presupuesto"
   ]
  },
  {
   "cell_type": "code",
   "execution_count": null,
   "id": "561ed800-0315-42bc-aee5-9b1ed7bb0926",
   "metadata": {
    "height": 64
   },
   "outputs": [],
   "source": [
    "from IPython.display import Image\n",
    "\n",
    "Image(url=\"factura.png\")"
   ]
  },
  {
   "cell_type": "code",
   "execution_count": null,
   "id": "63155f19-9e0f-4add-beb9-c773486d19dd",
   "metadata": {
    "height": 64
   },
   "outputs": [],
   "source": [
    "\n",
    "call_LMM(\"factura.png\",\n",
    "    \"\"\"Identifica los artículos en la factura. Asegúrate de que la salida sea en formato \n",
    "    JSON con la cantidad, descripción, precio unitario y monto.\"\"\")"
   ]
  },
  {
   "cell_type": "code",
   "execution_count": null,
   "id": "3f332676-9a5a-4ef7-b27e-cfc50018e589",
   "metadata": {
    "height": 115
   },
   "outputs": [],
   "source": [
    "call_LMM(\"factura.png\",\n",
    "    \"\"\"¿Cuánto costarían cuatro juegos de brazos de pedal y 6 horas de mano de obra?\"\"\",\n",
    "    plain_text=True\n",
    ")"
   ]
  },
  {
   "cell_type": "markdown",
   "id": "4d7e2215-be23-4d11-8ef9-26e88720f66c",
   "metadata": {},
   "source": [
    "### Extracción de tablas de imagenes"
   ]
  },
  {
   "cell_type": "code",
   "execution_count": null,
   "id": "ee468b2d-735e-46a9-9de5-e0f158d4412f",
   "metadata": {
    "height": 30
   },
   "outputs": [],
   "source": [
    "Image(\"telecentro.png\")"
   ]
  },
  {
   "cell_type": "code",
   "execution_count": null,
   "id": "c278becb-c206-4be5-83d1-8f58f0a5435e",
   "metadata": {
    "height": 47
   },
   "outputs": [],
   "source": [
    "call_LMM(\"telecentro.png\", \n",
    "    \"Imprime el contenido de la imagen como una tabla en markdown.\")"
   ]
  },
  {
   "cell_type": "code",
   "execution_count": null,
   "id": "04bbe338-5bb6-4814-bd13-d19ad093fdf8",
   "metadata": {
    "height": 64
   },
   "outputs": [],
   "source": [
    "call_LMM(\"telecentro.png\", \n",
    "    \"\"\"Analiza el contenido de la imagen como una tabla en markdown. Cuál es el plan\n",
    "    que tiene el precio mas bajo por GB?\"\"\")"
   ]
  },
  {
   "cell_type": "markdown",
   "id": "3c40eef4-3898-4751-951e-48633fdde1cd",
   "metadata": {},
   "source": [
    "### Análisis de  Flow Charts"
   ]
  },
  {
   "cell_type": "code",
   "execution_count": null,
   "id": "85f52b14-e783-4375-a136-52d556fd1f92",
   "metadata": {
    "height": 30
   },
   "outputs": [],
   "source": [
    "Image(\"diagrama.png\")"
   ]
  },
  {
   "cell_type": "code",
   "execution_count": null,
   "id": "ceb04606-1d5f-41b3-bde7-a397ef052a2e",
   "metadata": {
    "height": 64
   },
   "outputs": [],
   "source": [
    "call_LMM(\"diagrama.png\", \n",
    "    \"\"\"Proporciona un desglose resumido del diagrama de flujo en la imagen en formato de lista numerada. \n",
    "    En español\"\"\")"
   ]
  },
  {
   "cell_type": "code",
   "execution_count": null,
   "id": "8be1f359-a3eb-4584-8cf2-4b13e29d51e2",
   "metadata": {
    "height": 81
   },
   "outputs": [],
   "source": [
    "call_LMM(\"diagrama.png\", \n",
    "    \"\"\"Analiza el diagrama de flujo en la imagen, luego genera un\n",
    "      código en Python que implemente este flujo lógico en una función\"\"\")"
   ]
  }
 ],
 "metadata": {
  "kernelspec": {
   "display_name": "dolphenv",
   "language": "python",
   "name": "python3"
  },
  "language_info": {
   "codemirror_mode": {
    "name": "ipython",
    "version": 3
   },
   "file_extension": ".py",
   "mimetype": "text/x-python",
   "name": "python",
   "nbconvert_exporter": "python",
   "pygments_lexer": "ipython3",
   "version": "3.10.15"
  }
 },
 "nbformat": 4,
 "nbformat_minor": 5
}
